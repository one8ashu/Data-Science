{
 "cells": [
  {
   "cell_type": "code",
   "execution_count": null,
   "id": "02ac1d4e-07b5-4a44-b01c-8d92b8cc8f2e",
   "metadata": {},
   "outputs": [],
   "source": [
    "from __future__ import print_function\n",
    "import cv2 as cv\n",
    "import numpy as np\n",
    "import argparse\n",
    "import random as rng\n",
    "rng.seed(12345)\n",
    "def thresh_callback(val):\n",
    "    threshold = val\n",
    "    # Detect edges using Canny\n",
    "    canny_output = cv.Canny(src_gray, threshold, threshold * 2)\n",
    "    # Find contours\n",
    "    contours, hierarchy = cv.findContours(canny_output, cv.RETR_TREE, cv.CHAIN_APPROX_SIMPLE)\n",
    "    # Draw contours\n",
    "    drawing = np.zeros((canny_output.shape[0], canny_output.shape[1], 3), dtype=np.uint8)\n",
    "    for i in range(len(contours)):\n",
    "        color = (rng.randint(0,256), rng.randint(0,256), rng.randint(0,256))\n",
    "        cv.drawContours(drawing, contours, i, color, 2, cv.LINE_8, hierarchy, 0)\n",
    "    # Show in a window\n",
    "    cv.imshow('Contours', drawing)\n",
    "# Load source image\n",
    "parser = argparse.ArgumentParser(description='Code for Finding contours in your image tutorial.')\n",
    "parser.add_argument('--input', help='Path to input image.', default='HappyFish.jpg')\n",
    "args = parser.parse_args()\n",
    "src = cv.imread(cv.samples.findFile(args.input))\n",
    "if src is None:\n",
    "    print('Could not open or find the image:', args.input)\n",
    "    exit(0)\n",
    "# Convert image to gray and blur it\n",
    "src_gray = cv.cvtColor(src, cv.COLOR_BGR2GRAY)\n",
    "src_gray = cv.blur(src_gray, (3,3))\n",
    "# Create Window\n",
    "source_window = 'Source'\n",
    "cv.namedWindow(source_window)\n",
    "cv.imshow(source_window, src)\n",
    "max_thresh = 255\n",
    "thresh = 100 # initial threshold\n",
    "cv.createTrackbar('Canny Thresh:', source_window, thresh, max_thresh, thresh_callback)\n",
    "thresh_callback(thresh)\n",
    "cv.waitKey()"
   ]
  }
 ],
 "metadata": {
  "kernelspec": {
   "display_name": "Python 3 (ipykernel)",
   "language": "python",
   "name": "python3"
  },
  "language_info": {
   "codemirror_mode": {
    "name": "ipython",
    "version": 3
   },
   "file_extension": ".py",
   "mimetype": "text/x-python",
   "name": "python",
   "nbconvert_exporter": "python",
   "pygments_lexer": "ipython3",
   "version": "3.11.5"
  }
 },
 "nbformat": 4,
 "nbformat_minor": 5
}
